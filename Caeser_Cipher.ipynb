{
  "nbformat": 4,
  "nbformat_minor": 0,
  "metadata": {
    "colab": {
      "provenance": []
    },
    "kernelspec": {
      "name": "python3",
      "display_name": "Python 3"
    },
    "language_info": {
      "name": "python"
    }
  },
  "cells": [
    {
      "cell_type": "code",
      "execution_count": null,
      "metadata": {
        "id": "fcfx_hq8GVO_"
      },
      "outputs": [],
      "source": [
        "# Encryption\n",
        "def encrypt(plaintext, shift):\n",
        "  encrypted = ''\n",
        "\n",
        "  for c in plaintext:\n",
        "    if c.isupper():\n",
        "      # subtract the unicode of A to get the index in the [0-25] range\n",
        "      c_index = ord(c) - ord('A')\n",
        "      # shift the current character by shift positions\n",
        "      c_shifted = (c_index + shift) % 26 + ord('A')\n",
        "\n",
        "      encrypted += chr(c_shifted)\n",
        "\n",
        "    elif c.islower():\n",
        "      # subtract the unicode of a to get the index in the [0-25] range\n",
        "      c_index = ord(c) - ord('a')\n",
        "      # shift the current character by shift positions\n",
        "      c_shifted = (c_index + shift) % 26 + ord('a')\n",
        "\n",
        "      encrypted += chr(c_shifted)\n",
        "\n",
        "    elif c.isdigit():\n",
        "      # if digit shift directly\n",
        "      c_num = (int(c) + shift) % 10\n",
        "\n",
        "      encrypted += str(c_num)\n",
        "\n",
        "    else:\n",
        "      # if space or any special character - leave it as it is and add to encrypted text\n",
        "      encrypted += c\n",
        "\n",
        "  return encrypted"
      ]
    },
    {
      "cell_type": "code",
      "source": [
        "print()\n",
        "print(\"*** CAESER CIPHER CODE *** \")\n",
        "print()\n",
        "\n",
        "text = input(\"Enter the text to encrypt: \")\n",
        "key = int (input(\"Enter the key: \"))\n",
        "\n",
        "print(\"Plain Text: \" + text)\n",
        "print(\"Shift: \" + str(key))\n",
        "print(\"Cipher Text: \" + encrypt(text, int(key)))"
      ],
      "metadata": {
        "colab": {
          "base_uri": "https://localhost:8080/"
        },
        "id": "SkJ7BqarKsor",
        "outputId": "604b72d0-c8a8-41e4-a056-283b11daf267"
      },
      "execution_count": null,
      "outputs": [
        {
          "output_type": "stream",
          "name": "stdout",
          "text": [
            "\n",
            "*** CAESER CIPHER CODE *** \n",
            "\n",
            "Enter the text to encrypt: Attack Enemy at 9:00\n",
            "Enter the key: 2\n",
            "Plain Text: Attack Enemy at 9:00\n",
            "Shift: 2\n",
            "Cipher Text: Cvvcem Gpgoa cv 1:22\n"
          ]
        }
      ]
    },
    {
      "cell_type": "code",
      "source": [
        "# Decryption\n",
        "def decrypt(ciphertext, shift):\n",
        "  decrypted = ''\n",
        "\n",
        "  for c in ciphertext:\n",
        "    if c.isupper():\n",
        "      # subtract the unicode of A to get the index in the [0-25] range\n",
        "      c_index = ord(c) - ord('A')\n",
        "      # shift the current character by shift positions\n",
        "      c_shifted = (c_index - shift) % 26 + ord('A')\n",
        "\n",
        "      decrypted += chr(c_shifted)\n",
        "\n",
        "    elif c.islower():\n",
        "      # subtract the unicode of a to get the index in the [0-25] range\n",
        "      c_index = ord(c) - ord('a')\n",
        "      # shift the current character by shift positions\n",
        "      c_shifted = (c_index - shift) % 26 + ord('a')\n",
        "\n",
        "      decrypted += chr(c_shifted)\n",
        "\n",
        "    elif c.isdigit():\n",
        "      # if digit shift directly\n",
        "      c_num = (int(c) - shift) % 10\n",
        "\n",
        "      decrypted += str(c_num)\n",
        "\n",
        "    else:\n",
        "      # if space or any special character - leave it as it is and add to encrypted text\n",
        "      decrypted += c\n",
        "\n",
        "  return decrypted"
      ],
      "metadata": {
        "id": "2Hs287PUMLTz"
      },
      "execution_count": null,
      "outputs": []
    },
    {
      "cell_type": "code",
      "source": [
        "print()\n",
        "print(\"*** CAESER CIPHER CODE *** \")\n",
        "print()\n",
        "\n",
        "text = input(\"Enter the text to decrypt: \")\n",
        "key = int (input(\"Enter the key: \"))\n",
        "\n",
        "print(\"Plain Text: \" + text)\n",
        "print(\"Shift: \" + str(key))\n",
        "print(\"Cipher Text: \" + decrypt(text, int(key)))"
      ],
      "metadata": {
        "colab": {
          "base_uri": "https://localhost:8080/"
        },
        "id": "aCx48C0PM89e",
        "outputId": "2e47fdf4-6270-4af3-f8fa-336c2ebcd14a"
      },
      "execution_count": null,
      "outputs": [
        {
          "output_type": "stream",
          "name": "stdout",
          "text": [
            "\n",
            "*** CAESER CIPHER CODE *** \n",
            "\n",
            "Enter the text to decrypt: Cvvcem Gpgoa cv 1:22\n",
            "Enter the key: 2\n",
            "Plain Text: Cvvcem Gpgoa cv 1:22\n",
            "Shift: 2\n",
            "Cipher Text: Attack Enemy at 9:00\n"
          ]
        }
      ]
    }
  ]
}